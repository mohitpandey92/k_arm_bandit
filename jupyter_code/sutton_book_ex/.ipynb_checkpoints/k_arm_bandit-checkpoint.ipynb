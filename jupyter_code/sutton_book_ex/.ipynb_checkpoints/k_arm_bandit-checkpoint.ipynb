{
 "cells": [
  {
   "cell_type": "code",
   "execution_count": 1,
   "metadata": {
    "collapsed": true
   },
   "outputs": [],
   "source": [
    "import numpy as np\n",
    "import matplotlib.pyplot as plt\n",
    "%matplotlib inline"
   ]
  },
  {
   "cell_type": "markdown",
   "metadata": {},
   "source": [
    "## Bandit problem with negative average reward"
   ]
  },
  {
   "cell_type": "code",
   "execution_count": 98,
   "metadata": {
    "collapsed": false
   },
   "outputs": [
    {
     "name": "stdout",
     "output_type": "stream",
     "text": [
      "[ 0.88389311  0.19586502  0.35753652 -2.34326191 -1.08483259  0.55969629\n",
      "  0.93946935 -0.97848104  0.50309684  0.40641447]\n"
     ]
    }
   ],
   "source": [
    "mu, sigma = 0, 1.0 # mean and standard deviation\n",
    "np.random.seed(20)\n",
    "k=10\n",
    "q_fn= np.random.normal(mu, sigma, k)\n",
    "action_x= np.linspace(1,k,k)\n",
    "print q_fn"
   ]
  },
  {
   "cell_type": "code",
   "execution_count": 97,
   "metadata": {
    "collapsed": false
   },
   "outputs": [
    {
     "data": {
      "text/plain": [
       "array([-0.1686461 , -3.18970279,  1.12013226,  1.33277821, -0.24333877,\n",
       "       -0.13003071, -0.10901737,  1.55618644,  0.12877835, -2.06694872])"
      ]
     },
     "execution_count": 97,
     "metadata": {},
     "output_type": "execute_result"
    }
   ],
   "source": [
    "np.random.normal(mu, sigma, k)"
   ]
  },
  {
   "cell_type": "code",
   "execution_count": 2,
   "metadata": {
    "collapsed": false
   },
   "outputs": [],
   "source": [
    "def whether_unique(arr, max_val):\n",
    "    eps=1e-10\n",
    "    counter=0\n",
    "    value_store=[]\n",
    "    for j in range(len(arr)):\n",
    "        #print j, np.abs(max_val-arr[j])\n",
    "        #print 'trial', trial\n",
    "            #print i, arr[j+i+1]\n",
    "        if np.abs(max_val-arr[j])<eps:\n",
    "                counter+=1\n",
    "                value_store.append(j)\n",
    "                #print counter\n",
    "                \n",
    "    if counter>1:\n",
    "        #print 'found duplicate', j#, trial#, arr[j+i+1]\n",
    "        return counter, value_store\n",
    "    return counter,[]"
   ]
  },
  {
   "cell_type": "code",
   "execution_count": 142,
   "metadata": {
    "collapsed": false
   },
   "outputs": [
    {
     "name": "stdout",
     "output_type": "stream",
     "text": [
      "3 [0, 5, 6]\n"
     ]
    }
   ],
   "source": [
    "arr=[4+4*1e-12,23,34,5,2,4.0, 4+4*1e-11]\n",
    "counter_dup,dup_arr=whether_unique(arr,4.0)\n",
    "print counter_dup,dup_arr"
   ]
  },
  {
   "cell_type": "code",
   "execution_count": 44,
   "metadata": {
    "collapsed": false
   },
   "outputs": [
    {
     "name": "stdout",
     "output_type": "stream",
     "text": [
      "[1]\n",
      "[8]\n",
      "[3]\n",
      "[0]\n",
      "[8]\n",
      "[1]\n",
      "[8]\n",
      "[6]\n",
      "[3]\n",
      "[4]\n",
      "[0, 1, 3, 4, 6, 7, 8, 9]\n"
     ]
    }
   ],
   "source": [
    "for i in range(10):\n",
    "    print np.random.choice(dup_arr, 1)\n",
    "print dup_arr"
   ]
  },
  {
   "cell_type": "code",
   "execution_count": 130,
   "metadata": {
    "collapsed": false
   },
   "outputs": [
    {
     "data": {
      "text/plain": [
       "(4.00000000004, 6)"
      ]
     },
     "execution_count": 130,
     "metadata": {},
     "output_type": "execute_result"
    }
   ],
   "source": [
    "rnd=np.random.choice(dup_arr, 1)[0]\n",
    "arr[rnd], rnd"
   ]
  },
  {
   "cell_type": "code",
   "execution_count": 121,
   "metadata": {
    "collapsed": false
   },
   "outputs": [
    {
     "ename": "NameError",
     "evalue": "name 'action_x' is not defined",
     "output_type": "error",
     "traceback": [
      "\u001b[0;31m---------------------------------------------------------------------------\u001b[0m",
      "\u001b[0;31mNameError\u001b[0m                                 Traceback (most recent call last)",
      "\u001b[0;32m<ipython-input-121-96315b36e5ce>\u001b[0m in \u001b[0;36m<module>\u001b[0;34m()\u001b[0m\n\u001b[0;32m----> 1\u001b[0;31m \u001b[0mplt\u001b[0m\u001b[0;34m.\u001b[0m\u001b[0merrorbar\u001b[0m\u001b[0;34m(\u001b[0m\u001b[0maction_x\u001b[0m\u001b[0;34m,\u001b[0m\u001b[0mq_fn\u001b[0m\u001b[0;34m,\u001b[0m \u001b[0mxerr\u001b[0m\u001b[0;34m=\u001b[0m\u001b[0;36m0.0\u001b[0m\u001b[0;34m,\u001b[0m \u001b[0myerr\u001b[0m\u001b[0;34m=\u001b[0m\u001b[0msigma\u001b[0m\u001b[0;34m,\u001b[0m \u001b[0mcapsize\u001b[0m\u001b[0;34m=\u001b[0m\u001b[0;36m10\u001b[0m\u001b[0;34m,\u001b[0m \u001b[0mcolor\u001b[0m\u001b[0;34m=\u001b[0m\u001b[0;34m'b'\u001b[0m\u001b[0;34m,\u001b[0m \u001b[0mfmt\u001b[0m\u001b[0;34m=\u001b[0m\u001b[0;34m'o'\u001b[0m\u001b[0;34m)\u001b[0m\u001b[0;34m\u001b[0m\u001b[0m\n\u001b[0m\u001b[1;32m      2\u001b[0m \u001b[0mplt\u001b[0m\u001b[0;34m.\u001b[0m\u001b[0mxlabel\u001b[0m\u001b[0;34m(\u001b[0m\u001b[0;34m'action'\u001b[0m\u001b[0;34m)\u001b[0m\u001b[0;34m\u001b[0m\u001b[0m\n\u001b[1;32m      3\u001b[0m \u001b[0mplt\u001b[0m\u001b[0;34m.\u001b[0m\u001b[0mylabel\u001b[0m\u001b[0;34m(\u001b[0m\u001b[0;34mr'$q_*(a)$'\u001b[0m\u001b[0;34m,\u001b[0m \u001b[0mfontsize\u001b[0m\u001b[0;34m=\u001b[0m\u001b[0;36m13\u001b[0m\u001b[0;34m)\u001b[0m\u001b[0;34m\u001b[0m\u001b[0m\n\u001b[1;32m      4\u001b[0m \u001b[0mplt\u001b[0m\u001b[0;34m.\u001b[0m\u001b[0mgrid\u001b[0m\u001b[0;34m(\u001b[0m \u001b[0;34m)\u001b[0m\u001b[0;34m\u001b[0m\u001b[0m\n",
      "\u001b[0;31mNameError\u001b[0m: name 'action_x' is not defined"
     ]
    }
   ],
   "source": [
    "plt.errorbar(action_x,q_fn, xerr=0.0, yerr=sigma, capsize=10, color='b', fmt='o')\n",
    "plt.xlabel('action')\n",
    "plt.ylabel(r'$q_*(a)$', fontsize=13)\n",
    "plt.grid( )"
   ]
  },
  {
   "cell_type": "code",
   "execution_count": 13,
   "metadata": {
    "collapsed": false
   },
   "outputs": [],
   "source": [
    "reward_fn=np.random.normal(q_fn, 1.0,k)"
   ]
  },
  {
   "cell_type": "code",
   "execution_count": 14,
   "metadata": {
    "collapsed": false
   },
   "outputs": [
    {
     "data": {
      "image/png": "[encoded data removed]",
      "text/plain": [
       "<matplotlib.figure.Figure at 0x7f064208a6d0>"
      ]
     },
     "metadata": {},
     "output_type": "display_data"
    }
   ],
   "source": [
    "plt.errorbar(action_x, reward_fn, xerr=0.0, yerr=1.0, capsize=10, color='b', fmt='o')\n",
    "plt.xlabel('action')\n",
    "plt.ylabel('rewards')\n",
    "plt.grid()"
   ]
  },
  {
   "cell_type": "code",
   "execution_count": 3,
   "metadata": {
    "collapsed": false
   },
   "outputs": [],
   "source": [
    "def bandit_ten_armed(k, q_fn_star):\n",
    "    reward_fn=np.random.normal(q_fn_star, 1.0,k)# generates 10 points with mean=q_fn(i) and variance 1\n",
    "    return reward_fn#[action]    "
   ]
  },
  {
   "cell_type": "code",
   "execution_count": 4,
   "metadata": {
    "collapsed": true
   },
   "outputs": [],
   "source": [
    "def optimal_action_fn(k, q_fn_star):\n",
    "    return np.argmax(q_fn_star)"
   ]
  },
  {
   "cell_type": "code",
   "execution_count": 41,
   "metadata": {
    "collapsed": false
   },
   "outputs": [
    {
     "name": "stdout",
     "output_type": "stream",
     "text": [
      "[ 1.76760095 -0.78777374 -0.06172207  0.23842679  0.07477245  0.33830476\n",
      "  0.27807663  1.22396588 -1.43049861  0.8544429 ]\n",
      "[ 3.2744516  -0.2644398   0.35358919  0.82181433  0.83423509  0.75099494\n",
      "  1.44591346  0.0114761  -3.58720387 -0.04422472]\n"
     ]
    }
   ],
   "source": [
    "q_fn_star= np.random.normal(mu, sigma, k)\n",
    "print q_fn_star\n",
    "print bandit_ten_armed(k, q_fn_star)"
   ]
  },
  {
   "cell_type": "code",
   "execution_count": 53,
   "metadata": {
    "collapsed": false
   },
   "outputs": [
    {
     "name": "stdout",
     "output_type": "stream",
     "text": [
      "0 2\n",
      "0 6\n",
      "1 4\n",
      "1 0\n",
      "2 4\n",
      "2 4\n",
      "3 1\n",
      "3 7\n",
      "4 7\n",
      "4 7\n"
     ]
    }
   ],
   "source": [
    "np.random.seed(1)\n",
    "for i in range(5):\n",
    "    q_fn_star= np.random.normal(mu, sigma, k)\n",
    "    print i, np.random.randint(0,10)\n",
    "    print i, np.random.choice(dup_arr, 1)[0]    "
   ]
  },
  {
   "cell_type": "code",
   "execution_count": 11,
   "metadata": {
    "collapsed": false
   },
   "outputs": [],
   "source": [
    "k=10\n",
    "N_steps=1000\n",
    "N_exp=2000\n",
    "mu, sigma = 0, 1.0 # mean and standard deviation\n",
    "action_possible= np.linspace(0,k-1,k, dtype=int)#action goes 0 to 9\n",
    "\n",
    "seedvalue_arr=np.linspace(1,N_exp, N_exp, dtype=int)\n",
    "Q_fn_arr=np.zeros((k,N_steps+1, N_exp))\n",
    "\n",
    "epsilon=0.1\n",
    "counter_optimal=np.zeros(N_steps)\n",
    "\n",
    "for j in range(N_exp):\n",
    "    N_fn_a=np.zeros(k) #N(a)\n",
    "    #np.random.seed(seedvalue_arr[j])\n",
    "    q_fn_star= np.random.normal(mu, sigma, k)#actual q_fn_star\n",
    "    count_dup=0\n",
    "    for i in range(N_steps):\n",
    "        p=np.random.uniform(0,1.0) \n",
    "        if p < epsilon: #prob epsilon #exploration\n",
    "            action_chosen=np.random.randint(0,10) #integers is from [0,10)\n",
    "            y=0\n",
    "           # print 'action', action_chosen\n",
    "        else: #prob 1-epsilon\n",
    "            y=1\n",
    "            Q_fn_temp=Q_fn_arr[:,i,j]\n",
    "            counter_dup,dup_arr=whether_unique(Q_fn_temp, np.max(Q_fn_temp))\n",
    "            if counter_dup>1:#there is a tie\n",
    "                action_chosen=np.random.choice(dup_arr, 1)[0]\n",
    "                count_dup+=1\n",
    "            else:#there is no tie\n",
    "                action_chosen=np.argmax(Q_fn_temp)  #greedy action #exploitation\n",
    "        reward_possible=bandit_ten_armed(k,q_fn_star)\n",
    "        reward_obt=reward_possible[action_chosen]\n",
    "        optimal_action=optimal_action_fn(k,q_fn_star)\n",
    "        if optimal_action==action_chosen:\n",
    "            counter_optimal[i]=counter_optimal[i]+1 #increasing count of optimal actions taken for i-th step in 1\n",
    "        N_fn_a[action_chosen]+=1 \n",
    "        Q_fn_arr[action_chosen,i,j]=Q_fn_arr[action_chosen,i,j]+(reward_obt-Q_fn_arr[action_chosen,i,j])/N_fn_a[action_chosen]\n",
    "        Q_fn_arr[:,i+1,j]=Q_fn_arr[:,i,j]# we should not forget reward estimate for previous step\n",
    "        #print y,action_chosen, Q_fn_arr[:,i,j]\n",
    "Q_fn_arr_final=np.mean(Q_fn_arr, axis=2) # avg over N_exp\n",
    "Q_fn_arr_final=np.mean(Q_fn_arr_final, axis=0) # avg over 10 actions\n",
    "counter_optimal=100*counter_optimal/N_exp"
   ]
  },
  {
   "cell_type": "code",
   "execution_count": 16,
   "metadata": {
    "collapsed": false
   },
   "outputs": [
    {
     "data": {
      "text/plain": [
       "4"
      ]
     },
     "execution_count": 16,
     "metadata": {},
     "output_type": "execute_result"
    }
   ],
   "source": [
    "count_dup"
   ]
  },
  {
   "cell_type": "code",
   "execution_count": 47,
   "metadata": {
    "collapsed": false
   },
   "outputs": [],
   "source": [
    "k=10\n",
    "N_steps=1000\n",
    "N_exp=1000\n",
    "mu, sigma = 0, 1.0 # mean and standard deviation\n",
    "action_possible= np.linspace(0,k-1,k, dtype=int)#action goes 0 to 9\n",
    "\n",
    "seedvalue_arr=np.linspace(1,N_exp, N_exp, dtype=int)\n",
    "Q_fn_arr_small_eps=np.zeros((k,N_steps+1, N_exp))\n",
    "\n",
    "epsilon=0.01\n",
    "counter_optimal_small_eps=np.zeros(N_steps)\n",
    "\n",
    "for j in range(N_exp):\n",
    "    N_fn_a=np.zeros(k) #N(a)\n",
    "    ###\n",
    "    np.random.seed(seedvalue_arr[j])\n",
    "    q_fn_star= np.random.normal(mu, sigma, k)#actual q_fn_star\n",
    "    ###\n",
    "    for i in range(N_steps):\n",
    "        p=np.random.uniform(0,1.0) \n",
    "        #print 'Q', Q_fn_arr[:,i]\n",
    "        #print 'N', N_fn_a\n",
    "        if p < epsilon: #prob epsilon #exploration\n",
    "            action_chosen=np.random.randint(0,10) #integers is from [0,10)\n",
    "            #counter+=1\n",
    "        #    print 'epsilon', counter, action\n",
    "        else: #prob 1-epsilon\n",
    "            if i==0:\n",
    "                action_chosen=np.random.randint(0,10) #first step every Q(a) would be zero\n",
    "            else:\n",
    "                Q_fn_temp=Q_fn_arr_small_eps[:,i,j]\n",
    "                action_chosen=np.argmax(Q_fn_temp)  #greedy action #exploitation\n",
    "        reward_possible=bandit_ten_armed(k,q_fn_star)\n",
    "        reward_obt=reward_possible[action_chosen]\n",
    "        optimal_action=optimal_action_fn(k,q_fn_star)\n",
    "        if optimal_action==action_chosen:\n",
    "            #print j,i,'hi'\n",
    "            counter_optimal_small_eps[i]=counter_optimal_small_eps[i]+1 #increasing count of optimal actions taken for i-th step in 1\n",
    "        N_fn_a[action_chosen]+=1 #expt realization\n",
    "        Q_fn_arr_small_eps[:,i+1,j]=Q_fn_arr_small_eps[:,i,j]# we should not forget reward estimate for previous step\n",
    "        Q_fn_arr_small_eps[action_chosen,i+1,j]+=(reward_obt-Q_fn_arr_small_eps[action_chosen,i,j])/N_fn_a[action_chosen]\n",
    "\n",
    "Q_fn_arr_final_small_eps=np.mean(Q_fn_arr_small_eps, axis=2) # avg over N_exp\n",
    "Q_fn_arr_final_small_eps=np.mean(Q_fn_arr_final_small_eps, axis=0) # avg over 10 actions\n",
    "counter_optimal_small_eps=100*counter_optimal_small_eps/N_exp"
   ]
  },
  {
   "cell_type": "code",
   "execution_count": 8,
   "metadata": {
    "collapsed": false
   },
   "outputs": [],
   "source": [
    "k=10\n",
    "N_steps=1000\n",
    "N_exp=1000\n",
    "mu, sigma = 0, 1.0 # mean and standard deviation\n",
    "action_possible= np.linspace(0,k-1,k, dtype=int)#action goes 0 to 9\n",
    "\n",
    "seedvalue_arr=np.linspace(1,N_exp, N_exp, dtype=int)\n",
    "Q_fn_arr_greedy=np.zeros((k,N_steps+1, N_exp))\n",
    "\n",
    "epsilon=0.0\n",
    "counter_optimal_greedy=np.zeros(N_steps)\n",
    "\n",
    "for j in range(N_exp):\n",
    "    N_fn_a=np.zeros(k) #N(a)\n",
    "    ###\n",
    "    np.random.seed(seedvalue_arr[j])\n",
    "    q_fn_star= np.random.normal(mu, sigma, k)#actual q_fn_star\n",
    "    ###\n",
    "    for i in range(N_steps):\n",
    "        p=np.random.uniform(0,1.0) \n",
    "        #print 'Q', Q_fn_arr[:,i]\n",
    "        #print 'N', N_fn_a\n",
    "        if p < epsilon: #prob epsilon #exploration\n",
    "            action_chosen=np.random.randint(0,10) #integers is from [0,10)\n",
    "            #counter+=1\n",
    "        #    print 'epsilon', counter, action\n",
    "        else: #prob 1-epsilon\n",
    "            Q_fn_temp=Q_fn_arr_greedy[:,i,j]\n",
    "            counter_dup,dup_arr=whether_unique(Q_fn_temp, np.max(Q_fn_temp))\n",
    "            if counter_dup>1:#there is a tie\n",
    "                action_chosen=np.random.choice(dup_arr, 1)[0]\n",
    "                #print 'tie'\n",
    "            else:#there is no tie\n",
    "            #print j,i, Q_fn_temp\n",
    "                action_chosen=np.argmax(Q_fn_temp)  #greedy action #exploitation\n",
    "        reward_possible=bandit_ten_armed(k,q_fn_star)\n",
    "        reward_obt=reward_possible[action_chosen]\n",
    "        optimal_action=optimal_action_fn(k,q_fn_star)\n",
    "        if optimal_action==action_chosen:\n",
    "            #print j,i,'hi'\n",
    "            counter_optimal_greedy[i]=counter_optimal_greedy[i]+1 #increasing count of optimal actions taken for i-th step in 1\n",
    "        N_fn_a[action_chosen]+=1 #expt realization\n",
    "        Q_fn_arr_greedy[:,i+1,j]=Q_fn_arr_greedy[:,i,j]# we should not forget reward estimate for previous step\n",
    "        Q_fn_arr_greedy[action_chosen,i+1,j]+=(reward_obt-Q_fn_arr_greedy[action_chosen,i,j])/N_fn_a[action_chosen]\n",
    "\n",
    "Q_fn_arr_final_greedy=np.mean(Q_fn_arr_greedy, axis=2) # avg over N_exp\n",
    "Q_fn_arr_final_greedy=np.mean(Q_fn_arr_final_greedy, axis=0) # avg over 10 actions\n",
    "counter_optimal_greedy=100*counter_optimal_greedy/N_exp"
   ]
  },
  {
   "cell_type": "code",
   "execution_count": 9,
   "metadata": {
    "collapsed": false
   },
   "outputs": [
    {
     "data": {
      "text/plain": [
       "<matplotlib.legend.Legend at 0x7f1af31d3750>"
      ]
     },
     "execution_count": 9,
     "metadata": {},
     "output_type": "execute_result"
    },
    {
     "data": {
      "image/png": "[encoded data removed]",
      "text/plain": [
       "<matplotlib.figure.Figure at 0x7f1aec7c7c90>"
      ]
     },
     "metadata": {},
     "output_type": "display_data"
    }
   ],
   "source": [
    "x=np.linspace(1,N_steps+1,N_steps+1)\n",
    "plt.plot(x, Q_fn_arr_final, 'b-', label=r'$\\epsilon=0.1$')\n",
    "#plt.plot(x, Q_fn_arr_final_small_eps, 'k-',label=r'$\\epsilon=0.01$')\n",
    "#plt.plot(x, Q_fn_arr_final_greedy, 'r-', label=r'$\\epsilon=0$(greedy)')\n",
    "plt.xlabel('steps')\n",
    "plt.ylabel('Avg reward $Q(a)$')\n",
    "plt.grid()\n",
    "plt.legend(loc='best')\n",
    "#plt.savefig('reward_neg_new.eps')"
   ]
  },
  {
   "cell_type": "code",
   "execution_count": 10,
   "metadata": {
    "collapsed": false
   },
   "outputs": [
    {
     "data": {
      "text/plain": [
       "<matplotlib.legend.Legend at 0x7f1af311a5d0>"
      ]
     },
     "execution_count": 10,
     "metadata": {},
     "output_type": "execute_result"
    },
    {
     "data": {
      "image/png": "[encoded data removed]",
      "text/plain": [
       "<matplotlib.figure.Figure at 0x7f1af34bd050>"
      ]
     },
     "metadata": {},
     "output_type": "display_data"
    }
   ],
   "source": [
    "x=np.linspace(1,N_steps,N_steps)\n",
    "plt.plot(x, counter_optimal, 'b-.', label=r'$\\epsilon=0.1$')\n",
    "#plt.plot(x, counter_optimal_small_eps, 'k-.',label=r'$\\epsilon=0.01$')\n",
    "#plt.plot(x, counter_optimal_greedy, 'r-',  label=r'$\\epsilon=0$(greedy)')\n",
    "plt.xlabel('steps')\n",
    "plt.ylabel(r'Optimal action %')\n",
    "plt.grid()\n",
    "plt.legend(loc='best')\n",
    "#plt.savefig('optimal_neg_reward_new.eps')"
   ]
  },
  {
   "cell_type": "code",
   "execution_count": 8,
   "metadata": {
    "collapsed": false
   },
   "outputs": [],
   "source": [
    "sigma=1.0\n",
    "mu=0.0\n",
    "N_exp=2000\n",
    "k=10\n",
    "mean_arr=np.zeros(N_exp)\n",
    "seedvalue_arr=np.linspace(1,N_exp, N_exp, dtype=int)\n",
    "for j in range(N_exp):\n",
    "    ###\n",
    "    np.random.seed(seedvalue_arr[j])\n",
    "    q_fn_star= np.random.normal(mu, sigma, k)#actual q_fn_star\n",
    "    mean_arr[j]= np.mean(q_fn_star)"
   ]
  },
  {
   "cell_type": "code",
   "execution_count": 9,
   "metadata": {
    "collapsed": false
   },
   "outputs": [
    {
     "name": "stdout",
     "output_type": "stream",
     "text": [
      "[   7.   38.  140.  335.  483.  487.  331.  125.   48.    6.]\n",
      "[   7.   38.  140.  335.  483.]\n",
      "[-1.04805438 -0.83896131 -0.62986824 -0.42077517 -0.2116821  -0.00258903\n",
      "  0.20650404  0.41559711  0.62469017  0.83378324  1.04287631]\n",
      "neg area 209.720348702\n",
      "pos area 208.465790286\n"
     ]
    },
    {
     "data": {
      "image/png": "[encoded data removed]",
      "text/plain": [
       "<matplotlib.figure.Figure at 0x7f3789627e50>"
      ]
     },
     "metadata": {},
     "output_type": "display_data"
    }
   ],
   "source": [
    "values, bins, _ = plt.hist(mean_arr, normed=False)\n",
    "area = sum(np.diff(bins)*values)\n",
    "print values\n",
    "print values[0:5]\n",
    "print bins\n",
    "print 'neg area',np.sum(np.diff(bins)[0:5]*values[0:5])\n",
    "print 'pos area', np.sum(np.diff(bins)[5:]*values[5:])\n",
    "#print np.sum(bins[0:6]*values[0:6])\n",
    "#print np.sum(bins[7:-1]*values[7:])"
   ]
  },
  {
   "cell_type": "code",
   "execution_count": 10,
   "metadata": {
    "collapsed": true
   },
   "outputs": [],
   "source": [
    "sigma=1.0\n",
    "mu=0.0\n",
    "N_exp=2000\n",
    "k=10\n",
    "mean_arr=np.zeros(N_exp)\n",
    "seedvalue_arr=np.linspace(4*N_exp, 5*N_exp,N_exp, dtype=int)\n",
    "for j in range(N_exp):\n",
    "    ###\n",
    "    np.random.seed(seedvalue_arr[j])\n",
    "    q_fn_star= np.random.normal(mu, sigma, k)#actual q_fn_star\n",
    "    mean_arr[j]= np.mean(q_fn_star)"
   ]
  },
  {
   "cell_type": "code",
   "execution_count": 11,
   "metadata": {
    "collapsed": false
   },
   "outputs": [
    {
     "name": "stdout",
     "output_type": "stream",
     "text": [
      "[  17.   47.  135.  277.  500.  494.  302.  163.   57.    8.]\n",
      "[  17.   47.  135.  277.  500.]\n",
      "[ 494.  302.  163.   57.    8.]\n",
      "[ 0.19621402  0.19621402  0.19621402  0.19621402  0.19621402  0.19621402\n",
      "  0.19621402  0.19621402  0.19621402  0.19621402]\n",
      "negative area 191.50488545\n",
      "positive area 200.923158504\n"
     ]
    },
    {
     "data": {
      "image/png": "[encoded data removed]",
      "text/plain": [
       "<matplotlib.figure.Figure at 0x7f37b8161310>"
      ]
     },
     "metadata": {},
     "output_type": "display_data"
    }
   ],
   "source": [
    "values, bins, _ = plt.hist(mean_arr, normed=False)\n",
    "area = sum(np.diff(bins)*values)\n",
    "print values\n",
    "print values[0:5]\n",
    "print values[5:]\n",
    "print np.diff(bins)\n",
    "print 'negative area', np.sum(np.diff(bins)[0:5]*values[0:5])\n",
    "print 'positive area', np.sum(np.diff(bins)[5:]*values[5:])"
   ]
  },
  {
   "cell_type": "code",
   "execution_count": 26,
   "metadata": {
    "collapsed": false
   },
   "outputs": [
    {
     "name": "stdout",
     "output_type": "stream",
     "text": [
      "0.00460717737769 0.0955676299797\n"
     ]
    }
   ],
   "source": [
    "print np.mean(mean_arr), np.var(mean_arr)"
   ]
  },
  {
   "cell_type": "markdown",
   "metadata": {},
   "source": [
    "## Bandit problem with positive average reward"
   ]
  },
  {
   "cell_type": "code",
   "execution_count": 12,
   "metadata": {
    "collapsed": true
   },
   "outputs": [],
   "source": [
    "k=10\n",
    "N_steps=1000\n",
    "N_exp=2000\n",
    "mu, sigma = 0, 1.0 # mean and standard deviation\n",
    "action_possible= np.linspace(0,k-1,k, dtype=int)#action goes 0 to 9\n",
    "\n",
    "seedvalue_arr=np.linspace(4*N_exp, 5*N_exp,N_exp, dtype=int)\n",
    "Q_fn_arr=np.zeros((k,N_steps+1, N_exp))\n",
    "\n",
    "epsilon=0.1\n",
    "counter_optimal=np.zeros(N_steps)\n",
    "\n",
    "for j in range(N_exp):\n",
    "    N_fn_a=np.zeros(k) #N(a)\n",
    "    ###\n",
    "    np.random.seed(seedvalue_arr[j])\n",
    "    q_fn_star= np.random.normal(mu, sigma, k)#actual q_fn_star\n",
    "    ###\n",
    "    for i in range(N_steps):\n",
    "        p=np.random.uniform(0,1.0) \n",
    "        #print 'Q', Q_fn_arr[:,i]\n",
    "        #print 'N', N_fn_a\n",
    "        if p < epsilon: #prob epsilon #exploration\n",
    "            action_chosen=np.random.randint(0,10) #integers is from [0,10)\n",
    "            #counter+=1\n",
    "        #    print 'epsilon', counter, action\n",
    "        else: #prob 1-epsilon\n",
    "            if i==0:\n",
    "                action_chosen=np.random.randint(0,10) #first step every Q(a) would be zero\n",
    "            else:\n",
    "                Q_fn_temp=Q_fn_arr[:,i,j]\n",
    "                action_chosen=np.argmax(Q_fn_temp)  #greedy action #exploitation\n",
    "        reward_possible=bandit_ten_armed(k,q_fn_star)\n",
    "        reward_obt=reward_possible[action_chosen]\n",
    "        optimal_action=optimal_action_fn(k,q_fn_star)\n",
    "        if optimal_action==action_chosen:\n",
    "            #print j,i,'hi'\n",
    "            counter_optimal[i]=counter_optimal[i]+1 #increasing count of optimal actions taken for i-th step in 1\n",
    "        N_fn_a[action_chosen]+=1 #expt realization\n",
    "        Q_fn_arr[:,i+1,j]=Q_fn_arr[:,i,j]# we should not forget reward estimate for previous step\n",
    "        Q_fn_arr[action_chosen,i+1,j]+=(reward_obt-Q_fn_arr[action_chosen,i,j])/N_fn_a[action_chosen]\n",
    "\n",
    "Q_fn_arr_final=np.mean(Q_fn_arr, axis=2) # avg over N_exp\n",
    "Q_fn_arr_final=np.mean(Q_fn_arr_final, axis=0) # avg over 10 actions\n",
    "counter_optimal=100*counter_optimal/N_exp"
   ]
  },
  {
   "cell_type": "code",
   "execution_count": 29,
   "metadata": {
    "collapsed": false
   },
   "outputs": [],
   "source": [
    "k=10\n",
    "N_steps=1000\n",
    "N_exp=1000\n",
    "mu, sigma = 0, 1.0 # mean and standard deviation\n",
    "action_possible= np.linspace(0,k-1,k, dtype=int)#action goes 0 to 9\n",
    "\n",
    "seedvalue_arr=np.linspace(4*N_exp, 5*N_exp,N_exp, dtype=int)\n",
    "Q_fn_arr_small_eps=np.zeros((k,N_steps+1, N_exp))\n",
    "\n",
    "epsilon=0.01\n",
    "counter_optimal_small_eps=np.zeros(N_steps)\n",
    "\n",
    "for j in range(N_exp):\n",
    "    N_fn_a=np.zeros(k) #N(a)\n",
    "    ###\n",
    "    np.random.seed(seedvalue_arr[j])\n",
    "    q_fn_star= np.random.normal(mu, sigma, k)#actual q_fn_star\n",
    "    ###\n",
    "    for i in range(N_steps):\n",
    "        p=np.random.uniform(0,1.0) \n",
    "        #print 'Q', Q_fn_arr[:,i]\n",
    "        #print 'N', N_fn_a\n",
    "        if p < epsilon: #prob epsilon #exploration\n",
    "            action_chosen=np.random.randint(0,10) #integers is from [0,10)\n",
    "            #counter+=1\n",
    "        #    print 'epsilon', counter, action\n",
    "        else: #prob 1-epsilon\n",
    "            if i==0:\n",
    "                action_chosen=np.random.randint(0,10) #first step every Q(a) would be zero\n",
    "            else:\n",
    "                Q_fn_temp=Q_fn_arr_small_eps[:,i,j]\n",
    "                action_chosen=np.argmax(Q_fn_temp)  #greedy action #exploitation\n",
    "        reward_possible=bandit_ten_armed(k,q_fn_star)\n",
    "        reward_obt=reward_possible[action_chosen]\n",
    "        optimal_action=optimal_action_fn(k,q_fn_star)\n",
    "        if optimal_action==action_chosen:\n",
    "            #print j,i,'hi'\n",
    "            counter_optimal_small_eps[i]=counter_optimal_small_eps[i]+1 #increasing count of optimal actions taken for i-th step in 1\n",
    "        N_fn_a[action_chosen]+=1 #expt realization\n",
    "        Q_fn_arr_small_eps[:,i+1,j]=Q_fn_arr_small_eps[:,i,j]# we should not forget reward estimate for previous step\n",
    "        Q_fn_arr_small_eps[action_chosen,i+1,j]+=(reward_obt-Q_fn_arr_small_eps[action_chosen,i,j])/N_fn_a[action_chosen]\n",
    "\n",
    "Q_fn_arr_final_small_eps=np.mean(Q_fn_arr_small_eps, axis=2) # avg over N_exp\n",
    "Q_fn_arr_final_small_eps=np.mean(Q_fn_arr_final_small_eps, axis=0) # avg over 10 actions\n",
    "counter_optimal_small_eps=100*counter_optimal_small_eps/N_exp"
   ]
  },
  {
   "cell_type": "code",
   "execution_count": 83,
   "metadata": {
    "collapsed": true
   },
   "outputs": [],
   "source": [
    "k=10\n",
    "N_steps=1000\n",
    "N_exp=1000\n",
    "mu, sigma = 0, 1.0 # mean and standard deviation\n",
    "action_possible= np.linspace(0,k-1,k, dtype=int)#action goes 0 to 9\n",
    "\n",
    "seedvalue_arr=np.linspace(4*N_exp, 5*N_exp,N_exp, dtype=int)\n",
    "Q_fn_arr_greedy=np.zeros((k,N_steps+1, N_exp))\n",
    "\n",
    "epsilon=0.0\n",
    "counter_optimal_greedy=np.zeros(N_steps)\n",
    "\n",
    "for j in range(N_exp):\n",
    "    N_fn_a=np.zeros(k) #N(a)\n",
    "    ###\n",
    "    np.random.seed(seedvalue_arr[j])\n",
    "    q_fn_star= np.random.normal(mu, sigma, k)#actual q_fn_star\n",
    "    ###\n",
    "    for i in range(N_steps):\n",
    "        p=np.random.uniform(0,1.0) \n",
    "        #print 'Q', Q_fn_arr[:,i]\n",
    "        #print 'N', N_fn_a\n",
    "        if p < epsilon: #prob epsilon #exploration\n",
    "            action_chosen=np.random.randint(0,10) #integers is from [0,10)\n",
    "            #counter+=1\n",
    "        #    print 'epsilon', counter, action\n",
    "        else: #prob 1-epsilon\n",
    "            if i==0:\n",
    "                action_chosen=np.random.randint(0,10) #first step every Q(a) would be zero\n",
    "            else:\n",
    "                Q_fn_temp=Q_fn_arr_greedy[:,i,j]\n",
    "                action_chosen=np.argmax(Q_fn_temp)  #greedy action #exploitation\n",
    "        reward_possible=bandit_ten_armed(k,q_fn_star)\n",
    "        reward_obt=reward_possible[action_chosen]\n",
    "        optimal_action=optimal_action_fn(k,q_fn_star)\n",
    "        if optimal_action==action_chosen:\n",
    "            #print j,i,'hi'\n",
    "            counter_optimal_greedy[i]=counter_optimal_greedy[i]+1 #increasing count of optimal actions taken for i-th step in 1\n",
    "        N_fn_a[action_chosen]+=1 #expt realization\n",
    "        Q_fn_arr_greedy[:,i+1,j]=Q_fn_arr_greedy[:,i,j]# we should not forget reward estimate for previous step\n",
    "        Q_fn_arr_greedy[action_chosen,i+1,j]+=(reward_obt-Q_fn_arr_greedy[action_chosen,i,j])/N_fn_a[action_chosen]\n",
    "\n",
    "Q_fn_arr_final_greedy=np.mean(Q_fn_arr_greedy, axis=2) # avg over N_exp\n",
    "Q_fn_arr_final_greedy=np.mean(Q_fn_arr_final_greedy, axis=0) # avg over 10 actions\n",
    "counter_optimal_greedy=100*counter_optimal_greedy/N_exp"
   ]
  },
  {
   "cell_type": "code",
   "execution_count": 13,
   "metadata": {
    "collapsed": false
   },
   "outputs": [
    {
     "data": {
      "text/plain": [
       "<matplotlib.legend.Legend at 0x7f37951ddd10>"
      ]
     },
     "execution_count": 13,
     "metadata": {},
     "output_type": "execute_result"
    },
    {
     "data": {
      "image/png": "[encoded data removed]",
      "text/plain": [
       "<matplotlib.figure.Figure at 0x7f378b8a5a90>"
      ]
     },
     "metadata": {},
     "output_type": "display_data"
    }
   ],
   "source": [
    "x=np.linspace(1,N_steps+1,N_steps+1)\n",
    "plt.plot(x, Q_fn_arr_final, 'b-', label=r'$\\epsilon=0.1$')\n",
    "#plt.plot(x, Q_fn_arr_final_small_eps, 'k-',label=r'$\\epsilon=0.01$')\n",
    "#plt.plot(x, Q_fn_arr_final_greedy, 'r-', label=r'$\\epsilon=0$(greedy)')\n",
    "plt.xlabel('steps')\n",
    "plt.ylabel('Avg reward $Q(a)$')\n",
    "plt.grid()\n",
    "plt.legend(loc='best')\n",
    "#plt.savefig('reward_neg_new.eps')"
   ]
  },
  {
   "cell_type": "code",
   "execution_count": 88,
   "metadata": {
    "collapsed": false
   },
   "outputs": [
    {
     "data": {
      "text/plain": [
       "<matplotlib.legend.Legend at 0x7ff3af6531d0>"
      ]
     },
     "execution_count": 88,
     "metadata": {},
     "output_type": "execute_result"
    },
    {
     "data": {
      "image/png": "[encoded data removed]",
      "text/plain": [
       "<matplotlib.figure.Figure at 0x7ff3af7fb690>"
      ]
     },
     "metadata": {},
     "output_type": "display_data"
    }
   ],
   "source": [
    "x=np.linspace(1,N_steps,N_steps)\n",
    "plt.plot(x, counter_optimal, 'b-.', label=r'$\\epsilon=0.1$')\n",
    "plt.plot(x, counter_optimal_small_eps, 'k-.',label=r'$\\epsilon=0.01$')\n",
    "plt.plot(x, counter_optimal_greedy, 'r-',  label=r'$\\epsilon=0$(greedy)')\n",
    "plt.xlabel('steps')\n",
    "plt.ylabel(r'Optimal action %')\n",
    "plt.grid()\n",
    "plt.legend(loc='best')\n",
    "#plt.savefig('optimal_neg_reward_new.eps')"
   ]
  },
  {
   "cell_type": "code",
   "execution_count": null,
   "metadata": {
    "collapsed": true
   },
   "outputs": [],
   "source": []
  }
 ],
 "metadata": {
  "kernelspec": {
   "display_name": "Python 2",
   "language": "python",
   "name": "python2"
  },
  "language_info": {
   "codemirror_mode": {
    "name": "ipython",
    "version": 2
   },
   "file_extension": ".py",
   "mimetype": "text/x-python",
   "name": "python",
   "nbconvert_exporter": "python",
   "pygments_lexer": "ipython2",
   "version": "2.7.13"
  }
 },
 "nbformat": 4,
 "nbformat_minor": 2
}
